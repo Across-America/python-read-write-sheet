{
 "cells": [
  {
   "cell_type": "code",
   "execution_count": 1,
   "id": "eb9ca109",
   "metadata": {},
   "outputs": [
    {
     "name": "stderr",
     "output_type": "stream",
     "text": [
      "/Users/rzhang/Library/Python/3.9/lib/python/site-packages/urllib3/__init__.py:35: NotOpenSSLWarning: urllib3 v2 only supports OpenSSL 1.1.1+, currently the 'ssl' module is compiled with 'LibreSSL 2.8.3'. See: https://github.com/urllib3/urllib3/issues/3020\n",
      "  warnings.warn(\n"
     ]
    }
   ],
   "source": [
    "#!/usr/bin/env python3\n",
    "\"\"\"\n",
    "Test script to inspect get_not_called_customers() output\n",
    "Shows detailed customer data from Smartsheet\n",
    "\"\"\"\n",
    "import os\n",
    "import json\n",
    "import sys\n",
    "from services.smartsheet_service import SmartsheetService\n",
    "from config.settings import CANCELLATION_SHEET_ID"
   ]
  },
  {
   "cell_type": "code",
   "execution_count": 2,
   "id": "8f575749",
   "metadata": {},
   "outputs": [
    {
     "name": "stdout",
     "output_type": "stream",
     "text": [
      "================================================================================\n",
      "🧪 TESTING SmartsheetService.get_not_called_customers()\n",
      "================================================================================\n",
      "\n",
      "📋 Using Sheet ID: 1537204938559364\n"
     ]
    }
   ],
   "source": [
    "\"\"\"Main test function\"\"\"\n",
    "print(\"=\" * 80)\n",
    "print(\"🧪 TESTING SmartsheetService.get_not_called_customers()\")\n",
    "print(\"=\" * 80)\n",
    "print()\n",
    "\n",
    "# Initialize SmartsheetService\n",
    "print(f\"📋 Using Sheet ID: {CANCELLATION_SHEET_ID}\")\n",
    "service = SmartsheetService(sheet_id=CANCELLATION_SHEET_ID)"
   ]
  },
  {
   "cell_type": "code",
   "execution_count": 3,
   "id": "5fa4f8fb",
   "metadata": {},
   "outputs": [],
   "source": [
    "sheet = service.smart.Sheets.get_sheet(CANCELLATION_SHEET_ID)"
   ]
  },
  {
   "cell_type": "code",
   "execution_count": 4,
   "id": "7dbc944f",
   "metadata": {},
   "outputs": [
    {
     "data": {
      "text/plain": [
       "{'client_id': 3986060951113604,\n",
       " 'cancellation_date': 326886253875076,\n",
       " 'amount_due': 4830485881245572,\n",
       " 'f_u_date': 2578686067560324,\n",
       " 'policy_number': 7082285694930820,\n",
       " 'phone_number': 1452786160717700,\n",
       " 'done?': 5393435834666884}"
      ]
     },
     "execution_count": 4,
     "metadata": {},
     "output_type": "execute_result"
    }
   ],
   "source": [
    "service._get_column_mapping(sheet)"
   ]
  },
  {
   "cell_type": "code",
   "execution_count": 10,
   "id": "df55ee90",
   "metadata": {},
   "outputs": [
    {
     "name": "stdout",
     "output_type": "stream",
     "text": [
      "找到 Row #2\n",
      "Row ID: 414652202815364\n",
      "\n",
      "  Agent Name                     : \n",
      "  Office                         : MV\n",
      "  Insured                        : TABEL ANWAR RIBHI\n",
      "  Client ID                      : 13094\n",
      "  LOB                            : Auto\n",
      "  Cancellation Date              : \n",
      "  Amount Due                     : \n",
      "  F/U Date                       : \n",
      "  Policy Number                  : CAAP0000191761\n",
      "  Phone number                   : \n",
      "  Company                        : Mercury Insurance\n",
      "  Next Step                      : Client - Call\n",
      "  Status                         : Reinstated\n",
      "  Cancellation Reason            : Non-Payment\n",
      "  Done?                          : ✓ 已勾选\n",
      "  Column14                       : \n"
     ]
    }
   ],
   "source": [
    "target_row_number = 2\n",
    "for row in sheet.rows:\n",
    "    if row.row_number == target_row_number:\n",
    "        print(f\"找到 Row #{target_row_number}\")\n",
    "        print(f\"Row ID: {row.id}\")\n",
    "        print()\n",
    "        \n",
    "        # 遍历所有列\n",
    "        for col in sheet.columns:\n",
    "            cell = row.get_column(col.id)\n",
    "            \n",
    "            # 对于 checkbox 列，使用 cell.value；其他列使用 display_value\n",
    "            if col.type == 'CHECKBOX':\n",
    "                value = \"✓ 已勾选\" if cell.value else \"☐ 未勾选\"\n",
    "            else:\n",
    "                value = str(cell.display_value) if cell.display_value else \"\"\n",
    "            \n",
    "            print(f\"  {col.title:30s} : {value}\")\n",
    "        break"
   ]
  },
  {
   "cell_type": "code",
   "execution_count": null,
   "id": "94e156a8",
   "metadata": {},
   "outputs": [],
   "source": [
    "\n",
    "\n",
    "def main():\n",
    "    \"\"\"Main test function\"\"\"\n",
    "    print(\"=\" * 80)\n",
    "    print(\"🧪 TESTING SmartsheetService.get_not_called_customers()\")\n",
    "    print(\"=\" * 80)\n",
    "    print()\n",
    "    \n",
    "    # Initialize SmartsheetService\n",
    "    print(f\"📋 Using Sheet ID: {CANCELLATION_SHEET_ID}\")\n",
    "    service = SmartsheetService(sheet_id=CANCELLATION_SHEET_ID)\n",
    "    \n",
    "    # Get customers with \"Not call yet\" status\n",
    "    print(\"\\n🔄 Fetching customers...\")\n",
    "    customers = service.get_not_called_customers()\n",
    "    \n",
    "    # Display results\n",
    "    print(\"\\n\" + \"=\" * 80)\n",
    "    print(f\"📊 RESULTS: Found {len(customers)} customer(s)\")\n",
    "    print(\"=\" * 80)\n",
    "    \n",
    "    if not customers:\n",
    "        print(\"\\n⚠️  No customers with 'Not call yet' status found.\")\n",
    "        print(\"   This could mean:\")\n",
    "        print(\"   - All customers have been called\")\n",
    "        print(\"   - The sheet is empty\")\n",
    "        print(\"   - The 'Call Status' column doesn't contain 'Not call yet'\")\n",
    "        return\n",
    "    \n",
    "    # Display each customer in detail\n",
    "    for i, customer in enumerate(customers, 1):\n",
    "        print(f\"\\n{'─' * 80}\")\n",
    "        print(f\"👤 Customer #{i}\")\n",
    "        print(f\"{'─' * 80}\")\n",
    "        \n",
    "        # Core fields\n",
    "        print(f\"  🆔 Client ID:      {customer.get('client_id', 'N/A')}\")\n",
    "        print(f\"  📋 Policy Number:  {customer.get('policy_number', 'N/A')}\")\n",
    "        print(f\"  📞 Phone Number:   {customer.get('phone_number', 'N/A')}\")\n",
    "        print(f\"  📍 Call Status:    {customer.get('call_status', 'N/A')}\")\n",
    "        print(f\"  🔢 Row Number:     {customer.get('row_number', 'N/A')}\")\n",
    "        print(f\"  🔑 Row ID:         {customer.get('row_id', 'N/A')}\")\n",
    "        \n",
    "        # Additional fields (if present)\n",
    "        additional_fields = [\n",
    "            'agent_name', 'office', 'insured', 'lob', 'status',\n",
    "            'cancellation_reason', 'cancellation_date', 'amount_due', \n",
    "            'done', 'f_u_date'\n",
    "        ]\n",
    "        \n",
    "        has_additional = any(customer.get(field) for field in additional_fields)\n",
    "        if has_additional:\n",
    "            print(f\"\\n  📝 Additional Info:\")\n",
    "            for field in additional_fields:\n",
    "                value = customer.get(field, '')\n",
    "                if value:\n",
    "                    label = field.replace('_', ' ').title()\n",
    "                    print(f\"     • {label}: {value}\")\n",
    "    \n",
    "    # JSON dump for programmatic use\n",
    "    print(f\"\\n{'=' * 80}\")\n",
    "    print(\"📄 RAW JSON OUTPUT\")\n",
    "    print(\"=\" * 80)\n",
    "    print(json.dumps(customers, indent=2, ensure_ascii=False))\n",
    "    \n",
    "    # Summary statistics\n",
    "    print(f\"\\n{'=' * 80}\")\n",
    "    print(\"📈 SUMMARY STATISTICS\")\n",
    "    print(\"=\" * 80)\n",
    "    print(f\"  Total customers:     {len(customers)}\")\n",
    "    \n",
    "    # Count unique values\n",
    "    unique_agents = set(c.get('agent_name', '') for c in customers if c.get('agent_name'))\n",
    "    unique_offices = set(c.get('office', '') for c in customers if c.get('office'))\n",
    "    unique_lobs = set(c.get('lob', '') for c in customers if c.get('lob'))\n",
    "    \n",
    "    if unique_agents:\n",
    "        print(f\"  Unique agents:       {len(unique_agents)}\")\n",
    "    if unique_offices:\n",
    "        print(f\"  Unique offices:      {len(unique_offices)}\")\n",
    "    if unique_lobs:\n",
    "        print(f\"  Unique LOBs:         {len(unique_lobs)}\")\n",
    "    \n",
    "    print(\"\\n✅ Test completed successfully!\")\n",
    "\n",
    "\n",
    "if __name__ == \"__main__\":\n",
    "    try:\n",
    "        main()\n",
    "    except KeyboardInterrupt:\n",
    "        print(\"\\n\\n⚠️  Test interrupted by user\")\n",
    "        sys.exit(1)\n",
    "    except Exception as e:\n",
    "        print(f\"\\n\\n❌ ERROR: {e}\")\n",
    "        import traceback\n",
    "        traceback.print_exc()\n",
    "        sys.exit(1)"
   ]
  }
 ],
 "metadata": {
  "kernelspec": {
   "display_name": "Python 3",
   "language": "python",
   "name": "python3"
  },
  "language_info": {
   "codemirror_mode": {
    "name": "ipython",
    "version": 3
   },
   "file_extension": ".py",
   "mimetype": "text/x-python",
   "name": "python",
   "nbconvert_exporter": "python",
   "pygments_lexer": "ipython3",
   "version": "3.9.6"
  }
 },
 "nbformat": 4,
 "nbformat_minor": 5
}
